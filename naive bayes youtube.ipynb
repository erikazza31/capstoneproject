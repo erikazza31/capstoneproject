{
  "cells": [
    {
      "cell_type": "code",
      "execution_count": 1,
      "metadata": {
        "colab": {
          "base_uri": "https://localhost:8080/"
        },
        "id": "-pDJmi__HPsz",
        "outputId": "179fd404-68c7-4db5-a241-d65e83427c71"
      },
      "outputs": [
        {
          "name": "stdout",
          "output_type": "stream",
          "text": [
            "            id comment\n",
            "0  eVKXYUlxHMY     NaN\n",
            "1  -IdZ0ENfEeY     NaN\n",
            "2  w_Cse2kDmwE     NaN\n",
            "3  _aNYmHSoJIM     NaN\n",
            "4  ThykCE67kQQ     NaN\n"
          ]
        }
      ],
      "source": [
        "import pandas as pd\n",
        "import re\n",
        "import emoji\n",
        "\n",
        "# Membaca dataset dari file CSV\n",
        "df = pd.read_csv(\"dataset_youtube_naive_bayes.csv\")\n",
        "\n",
        "# Menampilkan data dari dataset\n",
        "print(df.head())\n",
        "\n"
      ]
    },
    {
      "cell_type": "code",
      "execution_count": 2,
      "metadata": {},
      "outputs": [
        {
          "name": "stdout",
          "output_type": "stream",
          "text": [
            "Empty DataFrame\n",
            "Columns: [id, comment]\n",
            "Index: []\n"
          ]
        }
      ],
      "source": [
        "df_cleaned = df.dropna()\n",
        "print(df_cleaned)"
      ]
    },
    {
      "cell_type": "code",
      "execution_count": 3,
      "metadata": {
        "id": "S1pY0YpQrEnN"
      },
      "outputs": [
        {
          "name": "stderr",
          "output_type": "stream",
          "text": [
            "<>:13: SyntaxWarning: invalid escape sequence '\\W'\n",
            "<>:13: SyntaxWarning: invalid escape sequence '\\W'\n",
            "C:\\Users\\patri\\AppData\\Local\\Temp\\ipykernel_10168\\570175745.py:13: SyntaxWarning: invalid escape sequence '\\W'\n",
            "  words = re.sub('\\W+', ' ', words)\n"
          ]
        }
      ],
      "source": [
        "def tweet_cleaner(words):\n",
        "    # This will delete any emojis from the sentences\n",
        "    words = emoji.replace_emoji(words, replace=\"\")\n",
        "    # This will transform all words to lowercase\n",
        "    words = words.lower()\n",
        "    # This will delete all mentions and hashtags\n",
        "    words = re.sub(\"@[A-Za-z0-9]+\", \"\", words)\n",
        "    words = re.sub(\"#[A-Za-z0-9_]+\", \"\", words)\n",
        "    # This will delete links\n",
        "    words = re.sub(r\"http\\S+\", \"\", words)\n",
        "    words = re.sub(r\"www.\\S+\", \"\", words)\n",
        "    # Delete character which are not a word character\n",
        "    words = re.sub('\\W+', ' ', words)\n",
        "    return words"
      ]
    },
    {
      "cell_type": "code",
      "execution_count": 4,
      "metadata": {
        "id": "Vc2iuBm9rPs8"
      },
      "outputs": [
        {
          "name": "stderr",
          "output_type": "stream",
          "text": [
            "<>:19: SyntaxWarning: invalid escape sequence '\\s'\n",
            "<>:19: SyntaxWarning: invalid escape sequence '\\s'\n",
            "C:\\Users\\patri\\AppData\\Local\\Temp\\ipykernel_10168\\2268044122.py:19: SyntaxWarning: invalid escape sequence '\\s'\n",
            "  whitespace = re.sub('\\s+',' ',punctuation)\n"
          ]
        }
      ],
      "source": [
        "#from Sastrawi.Stemmer.StemmerFactory import StemmerFactory\n",
        "#from Sastrawi.StopWordRemover.StopWordRemoverFactory import StopWordRemoverFactory, StopWordRemover, ArrayDictionary\n",
        "import numpy as np\n",
        "import nltk\n",
        "from nltk.tokenize import word_tokenize\n",
        "\n",
        "#Penambahan simbol di akhir kalimat\n",
        "\n",
        "def Preprocessing(input):\n",
        "    #Handle duplicate symbols\n",
        "#for i in range(len(data['DataAsli'])):\n",
        "   # n, g in data.groupby(pd.Grouper(key='Tanggal',freq='W'))]\n",
        "# weeks = [g for n, g in data.groupby(['Kategori'])]\n",
        "    case_folding = input.lower()\n",
        "\n",
        "    keep_word = re.sub(r\"\\d+\", \" \",case_folding)\n",
        "\n",
        "    punctuation = re.sub(r'[^\\w\\s]','',keep_word)\n",
        "    whitespace = re.sub('\\s+',' ',punctuation)\n",
        "    single_char = re.sub(r\"\\b[a-zA-Z]\\b\", \"\", whitespace)\n",
        "    # menghapus emoticon yg terdapat pada kata\n",
        "    rem_emoticon = single_char.encode('ascii', 'replace').decode('ascii')\n",
        "    # proses tokenize\n",
        "    tokens = nltk.tokenize.word_tokenize(rem_emoticon)\n",
        "    stop = [word for word in tokens if not word in data]\n",
        "    return stop"
      ]
    },
    {
      "cell_type": "code",
      "execution_count": 5,
      "metadata": {
        "colab": {
          "base_uri": "https://localhost:8080/",
          "height": 206
        },
        "id": "STXJla1MFfgS",
        "outputId": "43526451-26b8-47ac-96cf-0aec9d7dec8f"
      },
      "outputs": [
        {
          "data": {
            "text/html": [
              "<div>\n",
              "<style scoped>\n",
              "    .dataframe tbody tr th:only-of-type {\n",
              "        vertical-align: middle;\n",
              "    }\n",
              "\n",
              "    .dataframe tbody tr th {\n",
              "        vertical-align: top;\n",
              "    }\n",
              "\n",
              "    .dataframe thead th {\n",
              "        text-align: right;\n",
              "    }\n",
              "</style>\n",
              "<table border=\"1\" class=\"dataframe\">\n",
              "  <thead>\n",
              "    <tr style=\"text-align: right;\">\n",
              "      <th></th>\n",
              "      <th>id</th>\n",
              "      <th>comment</th>\n",
              "    </tr>\n",
              "  </thead>\n",
              "  <tbody>\n",
              "    <tr>\n",
              "      <th>0</th>\n",
              "      <td>eVKXYUlxHMY</td>\n",
              "      <td>NaN</td>\n",
              "    </tr>\n",
              "    <tr>\n",
              "      <th>1</th>\n",
              "      <td>-IdZ0ENfEeY</td>\n",
              "      <td>NaN</td>\n",
              "    </tr>\n",
              "    <tr>\n",
              "      <th>2</th>\n",
              "      <td>w_Cse2kDmwE</td>\n",
              "      <td>NaN</td>\n",
              "    </tr>\n",
              "    <tr>\n",
              "      <th>3</th>\n",
              "      <td>_aNYmHSoJIM</td>\n",
              "      <td>NaN</td>\n",
              "    </tr>\n",
              "    <tr>\n",
              "      <th>4</th>\n",
              "      <td>ThykCE67kQQ</td>\n",
              "      <td>NaN</td>\n",
              "    </tr>\n",
              "  </tbody>\n",
              "</table>\n",
              "</div>"
            ],
            "text/plain": [
              "            id comment\n",
              "0  eVKXYUlxHMY     NaN\n",
              "1  -IdZ0ENfEeY     NaN\n",
              "2  w_Cse2kDmwE     NaN\n",
              "3  _aNYmHSoJIM     NaN\n",
              "4  ThykCE67kQQ     NaN"
            ]
          },
          "execution_count": 5,
          "metadata": {},
          "output_type": "execute_result"
        }
      ],
      "source": [
        "df.head()"
      ]
    },
    {
      "cell_type": "code",
      "execution_count": 6,
      "metadata": {
        "id": "iK5T0CFvtGja"
      },
      "outputs": [],
      "source": [
        "df['id'] = df['comment'].factorize()[0]\n",
        "from io import StringIO\n",
        "category_id_df = df[['comment', 'id']].drop_duplicates().sort_values('id')\n",
        "category_to_id = dict(category_id_df.values)\n",
        "id_to_category = dict(category_id_df[['id', 'comment']].values)"
      ]
    },
    {
      "cell_type": "code",
      "execution_count": 7,
      "metadata": {
        "colab": {
          "base_uri": "https://localhost:8080/",
          "height": 206
        },
        "id": "4vQGBVE5t6VI",
        "outputId": "be00b6c5-52fa-4ab3-e229-ce47c2278474"
      },
      "outputs": [
        {
          "data": {
            "text/html": [
              "<div>\n",
              "<style scoped>\n",
              "    .dataframe tbody tr th:only-of-type {\n",
              "        vertical-align: middle;\n",
              "    }\n",
              "\n",
              "    .dataframe tbody tr th {\n",
              "        vertical-align: top;\n",
              "    }\n",
              "\n",
              "    .dataframe thead th {\n",
              "        text-align: right;\n",
              "    }\n",
              "</style>\n",
              "<table border=\"1\" class=\"dataframe\">\n",
              "  <thead>\n",
              "    <tr style=\"text-align: right;\">\n",
              "      <th></th>\n",
              "      <th>id</th>\n",
              "      <th>comment</th>\n",
              "    </tr>\n",
              "  </thead>\n",
              "  <tbody>\n",
              "    <tr>\n",
              "      <th>0</th>\n",
              "      <td>-1</td>\n",
              "      <td>NaN</td>\n",
              "    </tr>\n",
              "    <tr>\n",
              "      <th>1</th>\n",
              "      <td>-1</td>\n",
              "      <td>NaN</td>\n",
              "    </tr>\n",
              "    <tr>\n",
              "      <th>2</th>\n",
              "      <td>-1</td>\n",
              "      <td>NaN</td>\n",
              "    </tr>\n",
              "    <tr>\n",
              "      <th>3</th>\n",
              "      <td>-1</td>\n",
              "      <td>NaN</td>\n",
              "    </tr>\n",
              "    <tr>\n",
              "      <th>4</th>\n",
              "      <td>-1</td>\n",
              "      <td>NaN</td>\n",
              "    </tr>\n",
              "  </tbody>\n",
              "</table>\n",
              "</div>"
            ],
            "text/plain": [
              "   id comment\n",
              "0  -1     NaN\n",
              "1  -1     NaN\n",
              "2  -1     NaN\n",
              "3  -1     NaN\n",
              "4  -1     NaN"
            ]
          },
          "execution_count": 7,
          "metadata": {},
          "output_type": "execute_result"
        }
      ],
      "source": [
        "df.head()"
      ]
    },
    {
      "cell_type": "code",
      "execution_count": 8,
      "metadata": {
        "colab": {
          "base_uri": "https://localhost:8080/"
        },
        "id": "Z4srXWjGJVIQ",
        "outputId": "f62e4c04-2a97-47ce-cc12-835f5a9769ff"
      },
      "outputs": [],
      "source": [
        "\n",
        "import seaborn as sns"
      ]
    },
    {
      "cell_type": "code",
      "execution_count": 9,
      "metadata": {
        "colab": {
          "base_uri": "https://localhost:8080/"
        },
        "id": "79CA2ZF9LO6R",
        "outputId": "b96849e4-a2ae-4ef7-bfe1-c376f9d0cd58"
      },
      "outputs": [
        {
          "name": "stderr",
          "output_type": "stream",
          "text": [
            "[nltk_data] Downloading package vader_lexicon to\n",
            "[nltk_data]     C:\\Users\\patri\\AppData\\Roaming\\nltk_data...\n",
            "[nltk_data]   Package vader_lexicon is already up-to-date!\n"
          ]
        },
        {
          "data": {
            "text/html": [
              "<div>\n",
              "<style scoped>\n",
              "    .dataframe tbody tr th:only-of-type {\n",
              "        vertical-align: middle;\n",
              "    }\n",
              "\n",
              "    .dataframe tbody tr th {\n",
              "        vertical-align: top;\n",
              "    }\n",
              "\n",
              "    .dataframe thead th {\n",
              "        text-align: right;\n",
              "    }\n",
              "</style>\n",
              "<table border=\"1\" class=\"dataframe\">\n",
              "  <thead>\n",
              "    <tr style=\"text-align: right;\">\n",
              "      <th></th>\n",
              "      <th>id</th>\n",
              "      <th>comment</th>\n",
              "      <th>compound</th>\n",
              "      <th>sentiment</th>\n",
              "    </tr>\n",
              "  </thead>\n",
              "  <tbody>\n",
              "    <tr>\n",
              "      <th>0</th>\n",
              "      <td>-1</td>\n",
              "      <td>nan</td>\n",
              "      <td>0.0</td>\n",
              "      <td>neutral</td>\n",
              "    </tr>\n",
              "    <tr>\n",
              "      <th>1</th>\n",
              "      <td>-1</td>\n",
              "      <td>nan</td>\n",
              "      <td>0.0</td>\n",
              "      <td>neutral</td>\n",
              "    </tr>\n",
              "    <tr>\n",
              "      <th>2</th>\n",
              "      <td>-1</td>\n",
              "      <td>nan</td>\n",
              "      <td>0.0</td>\n",
              "      <td>neutral</td>\n",
              "    </tr>\n",
              "    <tr>\n",
              "      <th>3</th>\n",
              "      <td>-1</td>\n",
              "      <td>nan</td>\n",
              "      <td>0.0</td>\n",
              "      <td>neutral</td>\n",
              "    </tr>\n",
              "    <tr>\n",
              "      <th>4</th>\n",
              "      <td>-1</td>\n",
              "      <td>nan</td>\n",
              "      <td>0.0</td>\n",
              "      <td>neutral</td>\n",
              "    </tr>\n",
              "  </tbody>\n",
              "</table>\n",
              "</div>"
            ],
            "text/plain": [
              "   id comment  compound sentiment\n",
              "0  -1     nan       0.0   neutral\n",
              "1  -1     nan       0.0   neutral\n",
              "2  -1     nan       0.0   neutral\n",
              "3  -1     nan       0.0   neutral\n",
              "4  -1     nan       0.0   neutral"
            ]
          },
          "execution_count": 9,
          "metadata": {},
          "output_type": "execute_result"
        }
      ],
      "source": [
        "# Determine tweet sentiment\n",
        "import nltk\n",
        "nltk.download('vader_lexicon')\n",
        "from nltk.sentiment.vader import SentimentIntensityAnalyzer\n",
        "\n",
        "analyzer = SentimentIntensityAnalyzer()\n",
        "\n",
        "# Mengubah nilai float menjadi string sebelum menggunakan 'encode'\n",
        "df['comment'] = df['comment'].astype(str)\n",
        "\n",
        "# Create a compound column with Vader\n",
        "df['compound'] = df['comment'].apply(lambda x: analyzer.polarity_scores(x)['compound'])\n",
        "\n",
        "\n",
        "\n"
      ]
    },
    {
      "cell_type": "code",
      "execution_count": null,
      "metadata": {},
      "outputs": [],
      "source": [
        "# Increase readability\n",
        "df['sentiment'] = df['compound'].map(lambda x: \"neutral\" if -0.05 <= x <= 0.05 else (\"positive\" if x > 0.05 else \"negative\"))\n",
        "df.head()\n"
      ]
    },
    {
      "cell_type": "code",
      "execution_count": 10,
      "metadata": {
        "colab": {
          "base_uri": "https://localhost:8080/",
          "height": 206
        },
        "id": "duPrxjMo2o_i",
        "outputId": "7e5ac519-3a8d-4d03-e3d0-1f28bdf2ad5d"
      },
      "outputs": [
        {
          "data": {
            "image/png": "[encoded data removed]",
            "text/plain": [
              "<Figure size 800x600 with 1 Axes>"
            ]
          },
          "metadata": {},
          "output_type": "display_data"
        }
      ],
      "source": [
        "import matplotlib.pyplot as plt\n",
        "\n",
        "# Assuming df is your DataFrame containing 'compound' and 'sentiment' columns\n",
        "\n",
        "# Count the number of occurrences of each sentiment\n",
        "sentiment_counts = df['sentiment'].value_counts()\n",
        "\n",
        "# Plotting\n",
        "plt.figure(figsize=(8, 6))\n",
        "sentiment_counts.plot(kind='bar', color=['gray', 'green', 'red'])\n",
        "plt.title('Sentiment Distribution')\n",
        "plt.xlabel('Sentiment')\n",
        "plt.ylabel('Count')\n",
        "\n",
        "# Display the count above each bar\n",
        "for i, count in enumerate(sentiment_counts):\n",
        "    plt.text(i, count + 0.1, str(count), ha='center')\n",
        "\n",
        "plt.show()\n"
      ]
    }
  ],
  "metadata": {
    "colab": {
      "provenance": []
    },
    "kernelspec": {
      "display_name": "Python 3",
      "name": "python3"
    },
    "language_info": {
      "codemirror_mode": {
        "name": "ipython",
        "version": 3
      },
      "file_extension": ".py",
      "mimetype": "text/x-python",
      "name": "python",
      "nbconvert_exporter": "python",
      "pygments_lexer": "ipython3",
      "version": "3.12.0"
    }
  },
  "nbformat": 4,
  "nbformat_minor": 0
}
